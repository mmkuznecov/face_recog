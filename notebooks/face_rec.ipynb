{
 "cells": [
  {
   "cell_type": "code",
   "execution_count": 1,
   "metadata": {},
   "outputs": [],
   "source": [
    "import dlib\n",
    "from skimage import io\n",
    "from scipy.spatial import distance\n",
    "import cv2"
   ]
  },
  {
   "cell_type": "code",
   "execution_count": 2,
   "metadata": {},
   "outputs": [],
   "source": [
    "pred = dlib.shape_predictor('shape_predictor_68_face_landmarks.dat')\n",
    "facerec = dlib.face_recognition_model_v1('dlib_face_recognition_resnet_model_v1.dat')\n",
    "detector = dlib.get_frontal_face_detector()"
   ]
  },
  {
   "cell_type": "code",
   "execution_count": 3,
   "metadata": {},
   "outputs": [
    {
     "name": "stdout",
     "output_type": "stream",
     "text": [
      "1080\n",
      "===========\n",
      "1080\n"
     ]
    }
   ],
   "source": [
    "cv = cv2.imread('Mikhail.jpg')\n",
    "sk = io.imread('Mikhail.jpg')\n",
    "cv = cv2.imread('Mikhail.jpg')\n",
    "cv = cv2.cvtColor(sk, cv2.COLOR_BGR2RGB)\n",
    "print(len(sk))\n",
    "print('===========')\n",
    "print(len(cv))"
   ]
  },
  {
   "cell_type": "code",
   "execution_count": 4,
   "metadata": {},
   "outputs": [],
   "source": [
    "w = dlib.image_window()\n",
    "w.clear_overlay()\n",
    "w.set_image(sk)"
   ]
  },
  {
   "cell_type": "code",
   "execution_count": 4,
   "metadata": {},
   "outputs": [
    {
     "data": {
      "text/plain": [
       "rectangles[[(170, 420) (491, 741)]]"
      ]
     },
     "execution_count": 4,
     "metadata": {},
     "output_type": "execute_result"
    }
   ],
   "source": [
    "dets = detector(cv, 1)\n",
    "dets"
   ]
  },
  {
   "cell_type": "code",
   "execution_count": 6,
   "metadata": {},
   "outputs": [
    {
     "name": "stdout",
     "output_type": "stream",
     "text": [
      "Detection 0: Left: 170 Top: 420 Right: 491 Bottom: 741\n"
     ]
    }
   ],
   "source": [
    "for k, d in enumerate(dets):\n",
    "    print(\"Detection {}: Left: {} Top: {} Right: {} Bottom: {}\".format(\n",
    "        k, d.left(), d.top(), d.right(), d.bottom()))\n",
    "    shape = pred(sk, d)\n",
    "    w.clear_overlay()\n",
    "    w.add_overlay(d)\n",
    "    w.add_overlay(shape)"
   ]
  },
  {
   "cell_type": "code",
   "execution_count": 9,
   "metadata": {},
   "outputs": [
    {
     "name": "stdout",
     "output_type": "stream",
     "text": [
      "<class 'dlib.vector'>\n",
      "128\n",
      "-0.174802\n",
      "0.0502696\n",
      "0.0511258\n",
      "-0.0501205\n",
      "-0.0954701\n",
      "0.0649128\n",
      "-0.0265777\n",
      "-0.121462\n",
      "0.202631\n",
      "-0.181211\n",
      "0.208547\n",
      "-0.0263282\n",
      "-0.202447\n",
      "-0.059472\n",
      "0.0186464\n",
      "0.174684\n",
      "-0.0962769\n",
      "-0.0956618\n",
      "-0.102379\n",
      "-0.0186323\n",
      "0.0236079\n",
      "0.00160116\n",
      "-0.0180076\n",
      "0.0826108\n",
      "-0.180721\n",
      "-0.423192\n",
      "-0.125842\n",
      "-0.133816\n",
      "-0.0202344\n",
      "-0.0830069\n",
      "-0.037223\n",
      "0.0232043\n",
      "-0.0899641\n",
      "0.0193491\n",
      "-0.0336095\n",
      "0.0810474\n",
      "-0.0415648\n",
      "-0.0474187\n",
      "0.228129\n",
      "0.00937739\n",
      "-0.208614\n",
      "-0.0059916\n",
      "-0.0170781\n",
      "0.278032\n",
      "0.167109\n",
      "-0.0170129\n",
      "0.0865883\n",
      "-0.0346949\n",
      "0.170047\n",
      "-0.233275\n",
      "0.087295\n",
      "0.0527285\n",
      "0.129788\n",
      "0.0532542\n",
      "0.0740801\n",
      "-0.100804\n",
      "-0.0371736\n",
      "0.155736\n",
      "-0.221087\n",
      "0.104132\n",
      "0.0419187\n",
      "-0.122088\n",
      "-0.0751747\n",
      "-0.0533176\n",
      "0.241534\n",
      "0.181105\n",
      "-0.161894\n",
      "-0.117972\n",
      "0.217017\n",
      "-0.1495\n",
      "0.00152963\n",
      "-0.000391941\n",
      "-0.160994\n",
      "-0.208754\n",
      "-0.309056\n",
      "0.0452766\n",
      "0.450728\n",
      "0.155184\n",
      "-0.222287\n",
      "-0.0564172\n",
      "-0.115577\n",
      "-0.0307212\n",
      "0.068357\n",
      "0.105911\n",
      "0.00691547\n",
      "-0.0871292\n",
      "-0.0182875\n",
      "0.0378694\n",
      "0.248733\n",
      "-0.00847691\n",
      "-0.0165434\n",
      "0.246575\n",
      "0.0423237\n",
      "0.00771026\n",
      "-0.0420032\n",
      "0.0198315\n",
      "-0.0755485\n",
      "-0.039281\n",
      "-0.0456119\n",
      "0.0562708\n",
      "-0.0393797\n",
      "-0.066453\n",
      "0.0335603\n",
      "0.0856998\n",
      "-0.240294\n",
      "0.285572\n",
      "0.0365419\n",
      "0.0178653\n",
      "0.0437283\n",
      "0.0630616\n",
      "-0.173833\n",
      "-0.0306796\n",
      "0.203149\n",
      "-0.263989\n",
      "0.140716\n",
      "0.174086\n",
      "0.0864278\n",
      "0.170273\n",
      "0.0195972\n",
      "0.0645502\n",
      "0.0163396\n",
      "0.00648722\n",
      "-0.231985\n",
      "-0.0407267\n",
      "0.0813937\n",
      "-0.0603489\n",
      "0.0269813\n",
      "0.0791591\n"
     ]
    }
   ],
   "source": [
    "face_descriptor1 = facerec.compute_face_descriptor(sk, shape)\n",
    "face_descriptor1\n",
    "print(type(face_descriptor1))\n",
    "print(len(face_descriptor1))\n",
    "print(face_descriptor1)"
   ]
  },
  {
   "cell_type": "code",
   "execution_count": 34,
   "metadata": {},
   "outputs": [
    {
     "name": "stdout",
     "output_type": "stream",
     "text": [
      "Detection 0: Left: 139 Top: 254 Right: 268 Bottom: 383\n"
     ]
    }
   ],
   "source": [
    "img = io.imread('Timofey.jpg')\n",
    "win2 = dlib.image_window()\n",
    "win2.clear_overlay()\n",
    "win2.set_image(img)\n",
    "dets_webcam = detector(img, 1)\n",
    "for k, d in enumerate(dets_webcam):\n",
    "    print(\"Detection {}: Left: {} Top: {} Right: {} Bottom: {}\".format(\n",
    "        k, d.left(), d.top(), d.right(), d.bottom()))\n",
    "    shape = pred(img, d)\n",
    "    win2.clear_overlay()\n",
    "    win2.add_overlay(d)\n",
    "    win2.add_overlay(shape)"
   ]
  },
  {
   "cell_type": "code",
   "execution_count": 35,
   "metadata": {},
   "outputs": [],
   "source": [
    "face_descriptor2 = facerec.compute_face_descriptor(img, shape)"
   ]
  },
  {
   "cell_type": "code",
   "execution_count": 37,
   "metadata": {},
   "outputs": [
    {
     "name": "stdout",
     "output_type": "stream",
     "text": [
      "0.757985364490802\n"
     ]
    }
   ],
   "source": [
    "a = distance.euclidean(face_descriptor1, face_descriptor2)\n",
    "print(a)"
   ]
  },
  {
   "cell_type": "code",
   "execution_count": 39,
   "metadata": {},
   "outputs": [
    {
     "name": "stdout",
     "output_type": "stream",
     "text": [
      "5.656854249492381\n"
     ]
    }
   ],
   "source": [
    "print(distance.euclidean([1,3],[5,7]))"
   ]
  }
 ],
 "metadata": {
  "kernelspec": {
   "display_name": "Python 3",
   "language": "python",
   "name": "python3"
  },
  "language_info": {
   "codemirror_mode": {
    "name": "ipython",
    "version": 3
   },
   "file_extension": ".py",
   "mimetype": "text/x-python",
   "name": "python",
   "nbconvert_exporter": "python",
   "pygments_lexer": "ipython3",
   "version": "3.6.8"
  }
 },
 "nbformat": 4,
 "nbformat_minor": 2
}
